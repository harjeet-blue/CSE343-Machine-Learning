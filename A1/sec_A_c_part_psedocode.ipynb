{
  "nbformat": 4,
  "nbformat_minor": 0,
  "metadata": {
    "colab": {
      "provenance": []
    },
    "kernelspec": {
      "name": "python3",
      "display_name": "Python 3"
    },
    "language_info": {
      "name": "python"
    }
  },
  "cells": [
    {
      "cell_type": "markdown",
      "source": [
        "# **Proof of Law of Large Numbres (LLN) for Bernoulli Random Varible**"
      ],
      "metadata": {
        "id": "-rI0FT-D2ehN"
      }
    },
    {
      "cell_type": "code",
      "execution_count": 10,
      "metadata": {
        "id": "zHuAKBF80vzQ"
      },
      "outputs": [],
      "source": [
        "import random\n",
        "from matplotlib import pyplot as plt"
      ]
    },
    {
      "cell_type": "markdown",
      "source": [
        "# Random Varible = No of heads in coin toss\n",
        "# Samp.      Prob.\n",
        "# X = 0       (1/2) \n",
        "# X = 1       (1/2)\n",
        "# Exepcted Value 1/2x0  + 1/2x1 = 1/2 = 0.5\n"
      ],
      "metadata": {
        "id": "oEY2PmpD2uXs"
      }
    },
    {
      "cell_type": "markdown",
      "source": [],
      "metadata": {
        "id": "eCid2gec2rDC"
      }
    },
    {
      "cell_type": "markdown",
      "source": [
        "# **For 10 samples**"
      ],
      "metadata": {
        "id": "pZyfxYg2109T"
      }
    },
    {
      "cell_type": "code",
      "source": [
        "X = []\n",
        "Y = []\n",
        "sample = []\n",
        "for i in range(10):\n",
        "  sample.append(random.randint(0,1))\n",
        "  X.append(i+1)\n",
        "  Y.append(sum(sample)/len(sample))\n",
        "\n",
        "plt.plot(X, Y)\n",
        "plt.ylim(0, 1)\n",
        "plt.xlabel(\"No of samples\")\n",
        "plt.ylabel(\"Sample Mean\")"
      ],
      "metadata": {
        "colab": {
          "base_uri": "https://localhost:8080/",
          "height": 300
        },
        "id": "bHZ0umSb08BN",
        "outputId": "eb864c33-c1ed-4259-fbdb-5989a434c0dc"
      },
      "execution_count": 11,
      "outputs": [
        {
          "output_type": "execute_result",
          "data": {
            "text/plain": [
              "Text(0, 0.5, 'Sample Mean')"
            ]
          },
          "metadata": {},
          "execution_count": 11
        },
        {
          "output_type": "display_data",
          "data": {
            "text/plain": [
              "<Figure size 432x288 with 1 Axes>"
            ],
            "image/png": "[encoded data removed]"
          },
          "metadata": {
            "needs_background": "light"
          }
        }
      ]
    },
    {
      "cell_type": "markdown",
      "source": [
        "# **For 100 Samples**"
      ],
      "metadata": {
        "id": "Yraxr53l2Vik"
      }
    },
    {
      "cell_type": "code",
      "source": [
        "X = []\n",
        "Y = []\n",
        "sample = []\n",
        "for i in range(100):\n",
        "  sample.append(random.randint(0,1))\n",
        "  X.append(i+1)\n",
        "  Y.append(sum(sample)/len(sample))\n",
        "\n",
        "plt.plot(X, Y)\n",
        "plt.ylim(0, 1)\n",
        "plt.xlabel(\"No of samples\")\n",
        "plt.ylabel(\"Sample Mean\")"
      ],
      "metadata": {
        "colab": {
          "base_uri": "https://localhost:8080/",
          "height": 300
        },
        "id": "8xtm88y307-c",
        "outputId": "a36fb3c8-52b7-420f-8b0e-d7cc49e3149f"
      },
      "execution_count": 12,
      "outputs": [
        {
          "output_type": "execute_result",
          "data": {
            "text/plain": [
              "Text(0, 0.5, 'Sample Mean')"
            ]
          },
          "metadata": {},
          "execution_count": 12
        },
        {
          "output_type": "display_data",
          "data": {
            "text/plain": [
              "<Figure size 432x288 with 1 Axes>"
            ],
            "image/png": "[encoded data removed]"
          },
          "metadata": {
            "needs_background": "light"
          }
        }
      ]
    },
    {
      "cell_type": "markdown",
      "source": [
        "# **For 1000 Samples**"
      ],
      "metadata": {
        "id": "ZCypj12k2ZhW"
      }
    },
    {
      "cell_type": "code",
      "source": [
        "X = []\n",
        "Y = []\n",
        "sample = []\n",
        "for i in range(1000):\n",
        "  sample.append(random.randint(0,1))\n",
        "  X.append(i+1)\n",
        "  Y.append(sum(sample)/len(sample))\n",
        "\n",
        "plt.plot(X, Y)\n",
        "plt.ylim(0, 1)\n",
        "plt.xlabel(\"No of samples\")\n",
        "plt.ylabel(\"Sample Mean\")"
      ],
      "metadata": {
        "colab": {
          "base_uri": "https://localhost:8080/",
          "height": 300
        },
        "id": "VFA50yM00783",
        "outputId": "ac297f47-aa89-45de-8830-95fc061408e5"
      },
      "execution_count": 13,
      "outputs": [
        {
          "output_type": "execute_result",
          "data": {
            "text/plain": [
              "Text(0, 0.5, 'Sample Mean')"
            ]
          },
          "metadata": {},
          "execution_count": 13
        },
        {
          "output_type": "display_data",
          "data": {
            "text/plain": [
              "<Figure size 432x288 with 1 Axes>"
            ],
            "image/png": "[encoded data removed]"
          },
          "metadata": {
            "needs_background": "light"
          }
        }
      ]
    },
    {
      "cell_type": "markdown",
      "source": [
        "# **For 10000 Samples**"
      ],
      "metadata": {
        "id": "Fn9V4nfa3hn6"
      }
    },
    {
      "cell_type": "code",
      "source": [
        "X = []\n",
        "Y = []\n",
        "sample = []\n",
        "for i in range(10000):\n",
        "  sample.append(random.randint(0,1))\n",
        "  X.append(i+1)\n",
        "  Y.append(sum(sample)/len(sample))\n",
        "\n",
        "plt.plot(X, Y)\n",
        "plt.ylim(0, 1)\n",
        "plt.xlabel(\"No of samples\")\n",
        "plt.ylabel(\"Sample Mean\")"
      ],
      "metadata": {
        "colab": {
          "base_uri": "https://localhost:8080/",
          "height": 300
        },
        "id": "PQYdzEG93ZDV",
        "outputId": "abf09a42-0616-4537-f8bf-0a554319f947"
      },
      "execution_count": 14,
      "outputs": [
        {
          "output_type": "execute_result",
          "data": {
            "text/plain": [
              "Text(0, 0.5, 'Sample Mean')"
            ]
          },
          "metadata": {},
          "execution_count": 14
        },
        {
          "output_type": "display_data",
          "data": {
            "text/plain": [
              "<Figure size 432x288 with 1 Axes>"
            ],
            "image/png": "[encoded data removed]"
          },
          "metadata": {
            "needs_background": "light"
          }
        }
      ]
    },
    {
      "cell_type": "markdown",
      "source": [
        "# **As we can see, as the number of samples is incresing the sample mean, observed mean is convering to expected i.e true mean i.e 0.5, This proves the  LLN**"
      ],
      "metadata": {
        "id": "Ybd8lOMe3p3K"
      }
    }
  ]
}