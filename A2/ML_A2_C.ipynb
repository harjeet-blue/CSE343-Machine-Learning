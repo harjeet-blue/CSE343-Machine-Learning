{
  "nbformat": 4,
  "nbformat_minor": 0,
  "metadata": {
    "colab": {
      "provenance": [],
      "collapsed_sections": []
    },
    "kernelspec": {
      "name": "python3",
      "display_name": "Python 3"
    },
    "language_info": {
      "name": "python"
    }
  },
  "cells": [
    {
      "cell_type": "code",
      "execution_count": 61,
      "metadata": {
        "id": "QK9H8Wyu13bb"
      },
      "outputs": [],
      "source": [
        "import numpy as np \n",
        "import pandas as pd\n",
        "import seaborn as sns\n",
        "import matplotlib.pyplot as plt\n",
        "from sklearn.tree import DecisionTreeClassifier\n",
        "from sklearn.preprocessing import StandardScaler\n",
        "from sklearn.metrics import confusion_matrix, accuracy_score, classification_report\n",
        "import random as rnd"
      ]
    },
    {
      "cell_type": "code",
      "source": [
        "from google.colab import drive\n",
        "drive.mount('/content/drive')"
      ],
      "metadata": {
        "colab": {
          "base_uri": "https://localhost:8080/"
        },
        "id": "Jt6pN-qE2Is4",
        "outputId": "369bb473-ee89-410a-be15-d2246f0e217f"
      },
      "execution_count": 62,
      "outputs": [
        {
          "output_type": "stream",
          "name": "stdout",
          "text": [
            "Drive already mounted at /content/drive; to attempt to forcibly remount, call drive.mount(\"/content/drive\", force_remount=True).\n"
          ]
        }
      ]
    },
    {
      "cell_type": "code",
      "source": [
        "# fetching the data tables form system\n",
        "data = pd.read_csv(\"/content/drive/MyDrive/BitcoinHeistData.csv\")\n",
        "data.head(5)"
      ],
      "metadata": {
        "colab": {
          "base_uri": "https://localhost:8080/",
          "height": 206
        },
        "id": "JYIyMQrh2ZJX",
        "outputId": "f36293f5-50de-4ce7-f57f-b955891efffe"
      },
      "execution_count": 63,
      "outputs": [
        {
          "output_type": "execute_result",
          "data": {
            "text/plain": [
              "                              address  year  day  length    weight  count  \\\n",
              "0   111K8kZAEnJg245r2cM6y9zgJGHZtJPy6  2017   11      18  0.008333      1   \n",
              "1  1123pJv8jzeFQaCV4w644pzQJzVWay2zcA  2016  132      44  0.000244      1   \n",
              "2  112536im7hy6wtKbpH1qYDWtTyMRAcA2p7  2016  246       0  1.000000      1   \n",
              "3  1126eDRw2wqSkWosjTCre8cjjQW8sSeWH7  2016  322      72  0.003906      1   \n",
              "4  1129TSjKtx65E35GiUo4AYVeyo48twbrGX  2016  238     144  0.072848    456   \n",
              "\n",
              "   looped  neighbors     income            label  \n",
              "0       0          2  100050000  princetonCerber  \n",
              "1       0          1  100000000   princetonLocky  \n",
              "2       0          2  200000000  princetonCerber  \n",
              "3       0          2   71200000  princetonCerber  \n",
              "4       0          1  200000000   princetonLocky  "
            ],
            "text/html": [
              "\n",
              "  <div id=\"df-737104b7-eea5-467a-aef6-cfc3bbaf747c\">\n",
              "    <div class=\"colab-df-container\">\n",
              "      <div>\n",
              "<style scoped>\n",
              "    .dataframe tbody tr th:only-of-type {\n",
              "        vertical-align: middle;\n",
              "    }\n",
              "\n",
              "    .dataframe tbody tr th {\n",
              "        vertical-align: top;\n",
              "    }\n",
              "\n",
              "    .dataframe thead th {\n",
              "        text-align: right;\n",
              "    }\n",
              "</style>\n",
              "<table border=\"1\" class=\"dataframe\">\n",
              "  <thead>\n",
              "    <tr style=\"text-align: right;\">\n",
              "      <th></th>\n",
              "      <th>address</th>\n",
              "      <th>year</th>\n",
              "      <th>day</th>\n",
              "      <th>length</th>\n",
              "      <th>weight</th>\n",
              "      <th>count</th>\n",
              "      <th>looped</th>\n",
              "      <th>neighbors</th>\n",
              "      <th>income</th>\n",
              "      <th>label</th>\n",
              "    </tr>\n",
              "  </thead>\n",
              "  <tbody>\n",
              "    <tr>\n",
              "      <th>0</th>\n",
              "      <td>111K8kZAEnJg245r2cM6y9zgJGHZtJPy6</td>\n",
              "      <td>2017</td>\n",
              "      <td>11</td>\n",
              "      <td>18</td>\n",
              "      <td>0.008333</td>\n",
              "      <td>1</td>\n",
              "      <td>0</td>\n",
              "      <td>2</td>\n",
              "      <td>100050000</td>\n",
              "      <td>princetonCerber</td>\n",
              "    </tr>\n",
              "    <tr>\n",
              "      <th>1</th>\n",
              "      <td>1123pJv8jzeFQaCV4w644pzQJzVWay2zcA</td>\n",
              "      <td>2016</td>\n",
              "      <td>132</td>\n",
              "      <td>44</td>\n",
              "      <td>0.000244</td>\n",
              "      <td>1</td>\n",
              "      <td>0</td>\n",
              "      <td>1</td>\n",
              "      <td>100000000</td>\n",
              "      <td>princetonLocky</td>\n",
              "    </tr>\n",
              "    <tr>\n",
              "      <th>2</th>\n",
              "      <td>112536im7hy6wtKbpH1qYDWtTyMRAcA2p7</td>\n",
              "      <td>2016</td>\n",
              "      <td>246</td>\n",
              "      <td>0</td>\n",
              "      <td>1.000000</td>\n",
              "      <td>1</td>\n",
              "      <td>0</td>\n",
              "      <td>2</td>\n",
              "      <td>200000000</td>\n",
              "      <td>princetonCerber</td>\n",
              "    </tr>\n",
              "    <tr>\n",
              "      <th>3</th>\n",
              "      <td>1126eDRw2wqSkWosjTCre8cjjQW8sSeWH7</td>\n",
              "      <td>2016</td>\n",
              "      <td>322</td>\n",
              "      <td>72</td>\n",
              "      <td>0.003906</td>\n",
              "      <td>1</td>\n",
              "      <td>0</td>\n",
              "      <td>2</td>\n",
              "      <td>71200000</td>\n",
              "      <td>princetonCerber</td>\n",
              "    </tr>\n",
              "    <tr>\n",
              "      <th>4</th>\n",
              "      <td>1129TSjKtx65E35GiUo4AYVeyo48twbrGX</td>\n",
              "      <td>2016</td>\n",
              "      <td>238</td>\n",
              "      <td>144</td>\n",
              "      <td>0.072848</td>\n",
              "      <td>456</td>\n",
              "      <td>0</td>\n",
              "      <td>1</td>\n",
              "      <td>200000000</td>\n",
              "      <td>princetonLocky</td>\n",
              "    </tr>\n",
              "  </tbody>\n",
              "</table>\n",
              "</div>\n",
              "      <button class=\"colab-df-convert\" onclick=\"convertToInteractive('df-737104b7-eea5-467a-aef6-cfc3bbaf747c')\"\n",
              "              title=\"Convert this dataframe to an interactive table.\"\n",
              "              style=\"display:none;\">\n",
              "        \n",
              "  <svg xmlns=\"http://www.w3.org/2000/svg\" height=\"24px\"viewBox=\"0 0 24 24\"\n",
              "       width=\"24px\">\n",
              "    <path d=\"M0 0h24v24H0V0z\" fill=\"none\"/>\n",
              "    <path d=\"M18.56 5.44l.94 2.06.94-2.06 2.06-.94-2.06-.94-.94-2.06-.94 2.06-2.06.94zm-11 1L8.5 8.5l.94-2.06 2.06-.94-2.06-.94L8.5 2.5l-.94 2.06-2.06.94zm10 10l.94 2.06.94-2.06 2.06-.94-2.06-.94-.94-2.06-.94 2.06-2.06.94z\"/><path d=\"M17.41 7.96l-1.37-1.37c-.4-.4-.92-.59-1.43-.59-.52 0-1.04.2-1.43.59L10.3 9.45l-7.72 7.72c-.78.78-.78 2.05 0 2.83L4 21.41c.39.39.9.59 1.41.59.51 0 1.02-.2 1.41-.59l7.78-7.78 2.81-2.81c.8-.78.8-2.07 0-2.86zM5.41 20L4 18.59l7.72-7.72 1.47 1.35L5.41 20z\"/>\n",
              "  </svg>\n",
              "      </button>\n",
              "      \n",
              "  <style>\n",
              "    .colab-df-container {\n",
              "      display:flex;\n",
              "      flex-wrap:wrap;\n",
              "      gap: 12px;\n",
              "    }\n",
              "\n",
              "    .colab-df-convert {\n",
              "      background-color: #E8F0FE;\n",
              "      border: none;\n",
              "      border-radius: 50%;\n",
              "      cursor: pointer;\n",
              "      display: none;\n",
              "      fill: #1967D2;\n",
              "      height: 32px;\n",
              "      padding: 0 0 0 0;\n",
              "      width: 32px;\n",
              "    }\n",
              "\n",
              "    .colab-df-convert:hover {\n",
              "      background-color: #E2EBFA;\n",
              "      box-shadow: 0px 1px 2px rgba(60, 64, 67, 0.3), 0px 1px 3px 1px rgba(60, 64, 67, 0.15);\n",
              "      fill: #174EA6;\n",
              "    }\n",
              "\n",
              "    [theme=dark] .colab-df-convert {\n",
              "      background-color: #3B4455;\n",
              "      fill: #D2E3FC;\n",
              "    }\n",
              "\n",
              "    [theme=dark] .colab-df-convert:hover {\n",
              "      background-color: #434B5C;\n",
              "      box-shadow: 0px 1px 3px 1px rgba(0, 0, 0, 0.15);\n",
              "      filter: drop-shadow(0px 1px 2px rgba(0, 0, 0, 0.3));\n",
              "      fill: #FFFFFF;\n",
              "    }\n",
              "  </style>\n",
              "\n",
              "      <script>\n",
              "        const buttonEl =\n",
              "          document.querySelector('#df-737104b7-eea5-467a-aef6-cfc3bbaf747c button.colab-df-convert');\n",
              "        buttonEl.style.display =\n",
              "          google.colab.kernel.accessAllowed ? 'block' : 'none';\n",
              "\n",
              "        async function convertToInteractive(key) {\n",
              "          const element = document.querySelector('#df-737104b7-eea5-467a-aef6-cfc3bbaf747c');\n",
              "          const dataTable =\n",
              "            await google.colab.kernel.invokeFunction('convertToInteractive',\n",
              "                                                     [key], {});\n",
              "          if (!dataTable) return;\n",
              "\n",
              "          const docLinkHtml = 'Like what you see? Visit the ' +\n",
              "            '<a target=\"_blank\" href=https://colab.research.google.com/notebooks/data_table.ipynb>data table notebook</a>'\n",
              "            + ' to learn more about interactive tables.';\n",
              "          element.innerHTML = '';\n",
              "          dataTable['output_type'] = 'display_data';\n",
              "          await google.colab.output.renderOutput(dataTable, element);\n",
              "          const docLink = document.createElement('div');\n",
              "          docLink.innerHTML = docLinkHtml;\n",
              "          element.appendChild(docLink);\n",
              "        }\n",
              "      </script>\n",
              "    </div>\n",
              "  </div>\n",
              "  "
            ]
          },
          "metadata": {},
          "execution_count": 63
        }
      ]
    },
    {
      "cell_type": "code",
      "source": [
        "data['label'].unique()"
      ],
      "metadata": {
        "colab": {
          "base_uri": "https://localhost:8080/"
        },
        "id": "JdXTm36g2kIU",
        "outputId": "2a6e735d-f148-4251-bdd4-2e13c467aed6"
      },
      "execution_count": 64,
      "outputs": [
        {
          "output_type": "execute_result",
          "data": {
            "text/plain": [
              "array(['princetonCerber', 'princetonLocky', 'montrealCryptoLocker',\n",
              "       'montrealCryptXXX', 'paduaCryptoWall', 'montrealWannaCry',\n",
              "       'montrealDMALockerv3', 'montrealCryptoTorLocker2015',\n",
              "       'montrealSamSam', 'montrealFlyper', 'montrealNoobCrypt',\n",
              "       'montrealDMALocker', 'montrealGlobe', 'montrealEDA2',\n",
              "       'paduaKeRanger', 'montrealVenusLocker', 'montrealXTPLocker',\n",
              "       'paduaJigsaw', 'montrealGlobev3', 'montrealJigSaw',\n",
              "       'montrealXLockerv5.0', 'montrealXLocker', 'montrealRazy',\n",
              "       'montrealCryptConsole', 'montrealGlobeImposter', 'montrealSam',\n",
              "       'montrealComradeCircle', 'montrealAPT', 'white'], dtype=object)"
            ]
          },
          "metadata": {},
          "execution_count": 64
        }
      ]
    },
    {
      "cell_type": "code",
      "source": [
        "data.shape"
      ],
      "metadata": {
        "colab": {
          "base_uri": "https://localhost:8080/"
        },
        "id": "sltYnQAn2467",
        "outputId": "ef55416a-26f3-4b48-f1d9-b72440dff029"
      },
      "execution_count": 65,
      "outputs": [
        {
          "output_type": "execute_result",
          "data": {
            "text/plain": [
              "(1048575, 10)"
            ]
          },
          "metadata": {},
          "execution_count": 65
        }
      ]
    },
    {
      "cell_type": "code",
      "source": [
        "data.columns"
      ],
      "metadata": {
        "colab": {
          "base_uri": "https://localhost:8080/"
        },
        "id": "6u7sh8LU286q",
        "outputId": "864c13e0-32ba-4336-a827-6b834a7e484b"
      },
      "execution_count": 66,
      "outputs": [
        {
          "output_type": "execute_result",
          "data": {
            "text/plain": [
              "Index(['address', 'year', 'day', 'length', 'weight', 'count', 'looped',\n",
              "       'neighbors', 'income', 'label'],\n",
              "      dtype='object')"
            ]
          },
          "metadata": {},
          "execution_count": 66
        }
      ]
    },
    {
      "cell_type": "code",
      "source": [
        "data = data.drop(columns=['address'])"
      ],
      "metadata": {
        "id": "TGEKFFMkMI0m"
      },
      "execution_count": 67,
      "outputs": []
    },
    {
      "cell_type": "code",
      "source": [
        "data = data.sample(frac = 1)     # shuffling the data"
      ],
      "metadata": {
        "id": "Vml6CRy03ZnU"
      },
      "execution_count": 68,
      "outputs": []
    },
    {
      "cell_type": "code",
      "source": [
        "X = data.drop('label',axis=1).values\n",
        "Y = data['label']"
      ],
      "metadata": {
        "id": "A4f9jBm_-nOc"
      },
      "execution_count": 69,
      "outputs": []
    },
    {
      "cell_type": "code",
      "source": [
        "X"
      ],
      "metadata": {
        "colab": {
          "base_uri": "https://localhost:8080/"
        },
        "id": "vinQ0vlt7WMJ",
        "outputId": "3b4e246a-e9c7-477e-db92-996e43c6453c"
      },
      "execution_count": 70,
      "outputs": [
        {
          "output_type": "execute_result",
          "data": {
            "text/plain": [
              "array([[2.01200000e+03, 7.90000000e+01, 6.00000000e+00, ...,\n",
              "        0.00000000e+00, 2.00000000e+00, 3.93020000e+10],\n",
              "       [2.01300000e+03, 7.50000000e+01, 7.00000000e+01, ...,\n",
              "        0.00000000e+00, 2.00000000e+00, 4.44740753e+11],\n",
              "       [2.01200000e+03, 3.44000000e+02, 0.00000000e+00, ...,\n",
              "        0.00000000e+00, 1.00000000e+00, 1.00000000e+08],\n",
              "       ...,\n",
              "       [2.01100000e+03, 3.57000000e+02, 0.00000000e+00, ...,\n",
              "        0.00000000e+00, 2.00000000e+00, 7.13376270e+07],\n",
              "       [2.01200000e+03, 2.38000000e+02, 0.00000000e+00, ...,\n",
              "        0.00000000e+00, 1.00000000e+00, 3.12640000e+08],\n",
              "       [2.01300000e+03, 7.50000000e+01, 3.60000000e+01, ...,\n",
              "        0.00000000e+00, 2.00000000e+00, 1.01317819e+08]])"
            ]
          },
          "metadata": {},
          "execution_count": 70
        }
      ]
    },
    {
      "cell_type": "code",
      "source": [
        "X = StandardScaler().fit_transform(X)    # standardise the data"
      ],
      "metadata": {
        "id": "BqnuNBoWA9DD"
      },
      "execution_count": 71,
      "outputs": []
    },
    {
      "cell_type": "code",
      "source": [
        "X"
      ],
      "metadata": {
        "colab": {
          "base_uri": "https://localhost:8080/"
        },
        "id": "nV4YKpaC7P78",
        "outputId": "c6e731fc-c732-44ec-a0b2-ed3adfe8c331"
      },
      "execution_count": 72,
      "outputs": [
        {
          "output_type": "execute_result",
          "data": {
            "text/plain": [
              "array([[-0.04814226, -0.94396576, -0.47559468, ..., -0.12509531,\n",
              "        -0.01740912,  0.11845675],\n",
              "       [ 0.94682713, -0.98390951,  1.02253187, ..., -0.12509531,\n",
              "        -0.01740912,  1.70477388],\n",
              "       [-0.04814226,  1.70230808, -0.61604405, ..., -0.12509531,\n",
              "        -0.07110449, -0.03492475],\n",
              "       ...,\n",
              "       [-1.04311164,  1.83212528, -0.61604405, ..., -0.12509531,\n",
              "        -0.01740912, -0.03503689],\n",
              "       [-0.04814226,  0.64379854, -0.61604405, ..., -0.12509531,\n",
              "        -0.07110449, -0.03409278],\n",
              "       [ 0.94682713, -0.98390951,  0.22665214, ..., -0.12509531,\n",
              "        -0.01740912, -0.03491959]])"
            ]
          },
          "metadata": {},
          "execution_count": 72
        }
      ]
    },
    {
      "cell_type": "code",
      "source": [
        "X.shape"
      ],
      "metadata": {
        "colab": {
          "base_uri": "https://localhost:8080/"
        },
        "id": "skRl-OT4MRCB",
        "outputId": "44dceb4a-1c6f-44b7-bbe9-07b7bb4ddd34"
      },
      "execution_count": 73,
      "outputs": [
        {
          "output_type": "execute_result",
          "data": {
            "text/plain": [
              "(1048575, 8)"
            ]
          },
          "metadata": {},
          "execution_count": 73
        }
      ]
    },
    {
      "cell_type": "code",
      "source": [
        "data.isnull().sum()"
      ],
      "metadata": {
        "colab": {
          "base_uri": "https://localhost:8080/"
        },
        "id": "bbTfidJZMtkT",
        "outputId": "a989d630-3910-4cc5-e334-38a30d6c701e"
      },
      "execution_count": 74,
      "outputs": [
        {
          "output_type": "execute_result",
          "data": {
            "text/plain": [
              "year         0\n",
              "day          0\n",
              "length       0\n",
              "weight       0\n",
              "count        0\n",
              "looped       0\n",
              "neighbors    0\n",
              "income       0\n",
              "label        0\n",
              "dtype: int64"
            ]
          },
          "metadata": {},
          "execution_count": 74
        }
      ]
    },
    {
      "cell_type": "code",
      "source": [
        "Y = np.array(Y)"
      ],
      "metadata": {
        "id": "2CsUxej7tFqe"
      },
      "execution_count": 75,
      "outputs": []
    },
    {
      "cell_type": "code",
      "source": [
        "type(Y)"
      ],
      "metadata": {
        "colab": {
          "base_uri": "https://localhost:8080/"
        },
        "id": "n2I2I2LftMuL",
        "outputId": "4bf8ce37-c90d-4c98-9671-e74d28540fcf"
      },
      "execution_count": 76,
      "outputs": [
        {
          "output_type": "execute_result",
          "data": {
            "text/plain": [
              "numpy.ndarray"
            ]
          },
          "metadata": {},
          "execution_count": 76
        }
      ]
    },
    {
      "cell_type": "code",
      "source": [
        "N = len(data)\n",
        "N"
      ],
      "metadata": {
        "colab": {
          "base_uri": "https://localhost:8080/"
        },
        "id": "O3pSsidL-qvU",
        "outputId": "46ed186b-0303-47cc-93ed-cce11373801f"
      },
      "execution_count": 77,
      "outputs": [
        {
          "output_type": "execute_result",
          "data": {
            "text/plain": [
              "1048575"
            ]
          },
          "metadata": {},
          "execution_count": 77
        }
      ]
    },
    {
      "cell_type": "code",
      "source": [
        "X_train = np.array(X[: int(N*(0.7))])\n",
        "Y_train = np.array(Y[: int(N*(0.7))])\n",
        "X_val = np.array(X[int(N*(0.7)) : int(N*(0.85))])\n",
        "Y_val = np.array(Y[int(N*(0.7)) : int(N*(0.85))])\n",
        "X_test = np.array(X[int(N*(0.85)) : ])\n",
        "Y_test = np.array(Y[int(N*(0.85)) : ])"
      ],
      "metadata": {
        "id": "Ev7WEV3v-qsc"
      },
      "execution_count": 78,
      "outputs": []
    },
    {
      "cell_type": "code",
      "source": [],
      "metadata": {
        "id": "5osoxTIgkEcg"
      },
      "execution_count": 78,
      "outputs": []
    },
    {
      "cell_type": "code",
      "source": [
        "X_train.shape"
      ],
      "metadata": {
        "colab": {
          "base_uri": "https://localhost:8080/"
        },
        "id": "6oKtbQOI-qqU",
        "outputId": "a75b8852-391d-4229-a13e-323686326d85"
      },
      "execution_count": 79,
      "outputs": [
        {
          "output_type": "execute_result",
          "data": {
            "text/plain": [
              "(734002, 8)"
            ]
          },
          "metadata": {},
          "execution_count": 79
        }
      ]
    },
    {
      "cell_type": "code",
      "source": [
        "Y_test.shape"
      ],
      "metadata": {
        "colab": {
          "base_uri": "https://localhost:8080/"
        },
        "id": "aSxDFUcrA107",
        "outputId": "93cb5719-9ea1-422c-8cc6-a77b4626ce5e"
      },
      "execution_count": 80,
      "outputs": [
        {
          "output_type": "execute_result",
          "data": {
            "text/plain": [
              "(157287,)"
            ]
          },
          "metadata": {},
          "execution_count": 80
        }
      ]
    },
    {
      "cell_type": "code",
      "source": [
        "X_val.shape"
      ],
      "metadata": {
        "colab": {
          "base_uri": "https://localhost:8080/"
        },
        "id": "qJZFz2gcA3EJ",
        "outputId": "0fc09e90-716e-4ac4-dd38-46a7a19ecd47"
      },
      "execution_count": 81,
      "outputs": [
        {
          "output_type": "execute_result",
          "data": {
            "text/plain": [
              "(157286, 8)"
            ]
          },
          "metadata": {},
          "execution_count": 81
        }
      ]
    },
    {
      "cell_type": "markdown",
      "source": [
        "# **Decsion Tree Classifier**\n",
        "## **Gini Index**"
      ],
      "metadata": {
        "id": "JAW1KqKTOnR7"
      }
    },
    {
      "cell_type": "code",
      "source": [
        "Max_Depth = [4, 8, 10, 15, 20]"
      ],
      "metadata": {
        "id": "zkT_x7y_PMOT"
      },
      "execution_count": 82,
      "outputs": []
    },
    {
      "cell_type": "code",
      "source": [
        "for depth in Max_Depth:\n",
        "  dt = DecisionTreeClassifier(criterion = 'gini', max_depth = depth)\n",
        "  dt.fit(X_train, Y_train)\n",
        "  Y_pred = dt.predict(X_test)\n",
        "  score = accuracy_score(Y_pred, Y_test)*100\n",
        "  print(\"Accuracy for max depth \", depth, \" for test set is :- \", score)\n",
        "\n",
        "  Y_pred = dt.predict(X_val)\n",
        "  score = accuracy_score(Y_pred, Y_val)*100\n",
        "  print(\"Accuracy for max depth \", depth, \" for vald set is :- \", score,'\\n')"
      ],
      "metadata": {
        "colab": {
          "base_uri": "https://localhost:8080/"
        },
        "id": "77i_5WMVIuJa",
        "outputId": "48fb859b-66d9-4d46-d3f3-22ea9a8ba7e8"
      },
      "execution_count": 83,
      "outputs": [
        {
          "output_type": "stream",
          "name": "stdout",
          "text": [
            "Accuracy for max depth  4  for test set is :-  99.07811834417339\n",
            "Accuracy for max depth  4  for vald set is :-  99.08828503490457 \n",
            "\n",
            "Accuracy for max depth  8  for test set is :-  99.41889666660309\n",
            "Accuracy for max depth  8  for vald set is :-  99.40045522169805 \n",
            "\n",
            "Accuracy for max depth  10  for test set is :-  99.43034071474437\n",
            "Accuracy for max depth  10  for vald set is :-  99.41380669608229 \n",
            "\n",
            "Accuracy for max depth  15  for test set is :-  99.36612688906267\n",
            "Accuracy for max depth  15  for vald set is :-  99.35213560011698 \n",
            "\n",
            "Accuracy for max depth  20  for test set is :-  99.22307628729648\n",
            "Accuracy for max depth  20  for vald set is :-  99.21544193380211 \n",
            "\n"
          ]
        }
      ]
    },
    {
      "cell_type": "markdown",
      "source": [
        "## **Entropy**"
      ],
      "metadata": {
        "id": "MQj88SOKP4qt"
      }
    },
    {
      "cell_type": "code",
      "source": [
        "for depth in Max_Depth:\n",
        "  dt = DecisionTreeClassifier(criterion = 'entropy', max_depth = depth)\n",
        "  dt.fit(X_train, Y_train)\n",
        "  Y_pred = dt.predict(X_test)\n",
        "  score = accuracy_score(Y_pred, Y_test)*100\n",
        "  print(\"Accuracy for max depth \", depth, \" for test set is :- \", score)\n",
        "\n",
        "  Y_pred = dt.predict(X_val)\n",
        "  score = accuracy_score(Y_pred, Y_val)*100\n",
        "  print(\"Accuracy for max depth \", depth, \" for vald set is :- \", score,'\\n')"
      ],
      "metadata": {
        "colab": {
          "base_uri": "https://localhost:8080/"
        },
        "id": "K6YyTZLOP3xH",
        "outputId": "3a8bcc22-71d5-4cb8-b4da-be2ba6d61b92"
      },
      "execution_count": 84,
      "outputs": [
        {
          "output_type": "stream",
          "name": "stdout",
          "text": [
            "Accuracy for max depth  4  for test set is :-  99.07811834417339\n",
            "Accuracy for max depth  4  for vald set is :-  99.08828503490457 \n",
            "\n",
            "Accuracy for max depth  8  for test set is :-  99.41953244705537\n",
            "Accuracy for max depth  8  for vald set is :-  99.40109100619254 \n",
            "\n",
            "Accuracy for max depth  10  for test set is :-  99.43860586062421\n",
            "Accuracy for max depth  10  for vald set is :-  99.42779395496103 \n",
            "\n",
            "Accuracy for max depth  15  for test set is :-  99.38265718082232\n",
            "Accuracy for max depth  15  for vald set is :-  99.38583217832485 \n",
            "\n",
            "Accuracy for max depth  20  for test set is :-  99.26885247986166\n",
            "Accuracy for max depth  20  for vald set is :-  99.26376155538318 \n",
            "\n"
          ]
        }
      ]
    },
    {
      "cell_type": "code",
      "source": [
        "Y_train.shape"
      ],
      "metadata": {
        "colab": {
          "base_uri": "https://localhost:8080/"
        },
        "id": "2dwUpljljOkq",
        "outputId": "d2692ee1-19c3-49e8-ae8c-d2d375e3d5d1"
      },
      "execution_count": 85,
      "outputs": [
        {
          "output_type": "execute_result",
          "data": {
            "text/plain": [
              "(734002,)"
            ]
          },
          "metadata": {},
          "execution_count": 85
        }
      ]
    },
    {
      "cell_type": "code",
      "source": [
        "X_train.shape"
      ],
      "metadata": {
        "colab": {
          "base_uri": "https://localhost:8080/"
        },
        "id": "D4Dry4EljT5J",
        "outputId": "0eefb466-7757-46e3-fbb3-53a544d8bb24"
      },
      "execution_count": 86,
      "outputs": [
        {
          "output_type": "execute_result",
          "data": {
            "text/plain": [
              "(734002, 8)"
            ]
          },
          "metadata": {},
          "execution_count": 86
        }
      ]
    },
    {
      "cell_type": "code",
      "source": [
        "Y_train[5]"
      ],
      "metadata": {
        "colab": {
          "base_uri": "https://localhost:8080/",
          "height": 35
        },
        "id": "0u75PO1nj4X5",
        "outputId": "dad93db0-22ed-4f2c-da96-01d0f7de8ff7"
      },
      "execution_count": 87,
      "outputs": [
        {
          "output_type": "execute_result",
          "data": {
            "text/plain": [
              "'white'"
            ],
            "application/vnd.google.colaboratory.intrinsic+json": {
              "type": "string"
            }
          },
          "metadata": {},
          "execution_count": 87
        }
      ]
    },
    {
      "cell_type": "markdown",
      "source": [
        "# **Ensembling**"
      ],
      "metadata": {
        "id": "lKlbP0B0VSLW"
      }
    },
    {
      "cell_type": "code",
      "source": [
        "predicted_test_values = []\n",
        "predicted_vald_values = []\n",
        "\n",
        "for i in range(100):\n",
        "\n",
        "  x_train = []\n",
        "  y_train = []\n",
        "\n",
        "  for i in range(len(X_train)//2):\n",
        "    s = rnd.randrange(0, len(X_train), 1)   # bootstrap\n",
        "    y_train.append(Y_train[s])\n",
        "    np.append(y_train, Y_train[s])\n",
        "    x_train.append(X_train[s])\n",
        "    \n",
        "  x_train = np.array(x_train)\n",
        "  y_train = np.array(y_train)\n",
        "\n",
        "\n",
        "  dt = DecisionTreeClassifier(criterion = 'entropy', max_depth = 3)\n",
        "  dt.fit(x_train, y_train)\n",
        "  \n",
        "  y_pred = dt.predict(X_test)\n",
        "  predicted_test_values.append(y_pred)\n",
        "\n",
        "  Y_pred = dt.predict(X_val)\n",
        "  predicted_vald_values.append(Y_pred)\n"
      ],
      "metadata": {
        "id": "XB85UDFCQMFs"
      },
      "execution_count": null,
      "outputs": []
    },
    {
      "cell_type": "code",
      "source": [
        "predicted_test_values = np.array(predicted_test_values)"
      ],
      "metadata": {
        "id": "BTii1CFDAliY"
      },
      "execution_count": null,
      "outputs": []
    },
    {
      "cell_type": "code",
      "source": [
        "predicted_test_values = np.transpose(predicted_test_values)"
      ],
      "metadata": {
        "id": "T1E3M7SHAqrx"
      },
      "execution_count": null,
      "outputs": []
    },
    {
      "cell_type": "code",
      "source": [
        "y_pred = []\n",
        "\n",
        "for x in predicted_test_values:\n",
        "  values, counts = np.unique(x, return_counts=True)\n",
        "  ind = np.argmax(counts)\n",
        "  y_pred.append(values[ind])\n",
        "\n",
        "y_pred = np.array(y_pred)"
      ],
      "metadata": {
        "id": "i7C1BOG6n0Ce"
      },
      "execution_count": null,
      "outputs": []
    },
    {
      "cell_type": "code",
      "source": [
        "print(\"accuracy on test set : \", accuracy_score(y_pred, Y_val))"
      ],
      "metadata": {
        "id": "PtkU8yCw715V"
      },
      "execution_count": null,
      "outputs": []
    },
    {
      "cell_type": "code",
      "source": [
        "predicted_vald_values = np.array(predicted_vald_values)"
      ],
      "metadata": {
        "id": "cgTMFVxo6wsU"
      },
      "execution_count": null,
      "outputs": []
    },
    {
      "cell_type": "code",
      "source": [
        "predicted_vald_values = np.transpose(predicted_vald_values)"
      ],
      "metadata": {
        "id": "LAeNSwSC6wic"
      },
      "execution_count": null,
      "outputs": []
    },
    {
      "cell_type": "code",
      "source": [
        "y_pred = []\n",
        "\n",
        "for x in predicted_vald_values:\n",
        "  values, counts = np.unique(x, return_counts=True)\n",
        "  ind = np.argmax(counts)\n",
        "  y_pred.append(values[ind])\n",
        "\n",
        "y_pred = np.array(y_pred)"
      ],
      "metadata": {
        "id": "_dSZUihf6wX9"
      },
      "execution_count": null,
      "outputs": []
    },
    {
      "cell_type": "code",
      "source": [
        "print(\"accuracy of validation set : \", accuracy_score(y_pred, Y_val)"
      ],
      "metadata": {
        "id": "Ild6HTiY61u8"
      },
      "execution_count": null,
      "outputs": []
    },
    {
      "cell_type": "markdown",
      "source": [
        "# **Ada Boost**"
      ],
      "metadata": {
        "id": "B7jNYoYgOYwD"
      }
    },
    {
      "cell_type": "code",
      "source": [
        "from sklearn. ensemble import AdaBoostClassifier"
      ],
      "metadata": {
        "id": "SYiP2yLkBB3Q"
      },
      "execution_count": null,
      "outputs": []
    },
    {
      "cell_type": "code",
      "source": [
        "weak_learners = [4, 8, 10, 15, 20]\n",
        "\n",
        "for wl in weak_learners:\n",
        "  adb = AdaBoostClassifier(DecisionTreeClassifier(), n_estimators = wl, learning_rate = 1)\n",
        "  adb.fit(X_train,Y_train)\n",
        "\n",
        "  y_pred = adb.predict(X_test)\n",
        "  score = accuracy_score(y_pred, Y_test)\n",
        "  print(\"Accuracy with n_estimators = \", wl, \" is :- \", score)\n",
        "\n",
        "  Y_pred = dt.predict(X_val)\n",
        "  score = accuracy_score(Y_pred, Y_val)*100\n",
        "  print(\"Accuracy for max depth \", depth, \" for vald set is :- \", score,'\\n')"
      ],
      "metadata": {
        "id": "drx7gjEqLpY9"
      },
      "execution_count": null,
      "outputs": []
    },
    {
      "cell_type": "code",
      "source": [],
      "metadata": {
        "id": "ijJdWZ9QLpWM"
      },
      "execution_count": null,
      "outputs": []
    },
    {
      "cell_type": "code",
      "source": [],
      "metadata": {
        "id": "hIqT0Kb2LpRB"
      },
      "execution_count": null,
      "outputs": []
    }
  ]
}